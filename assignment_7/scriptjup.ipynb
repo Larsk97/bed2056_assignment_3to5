{
 "metadata": {
  "language_info": {
   "codemirror_mode": {
    "name": "ipython",
    "version": 3
   },
   "file_extension": ".py",
   "mimetype": "text/x-python",
   "name": "python",
   "nbconvert_exporter": "python",
   "pygments_lexer": "ipython3",
   "version": "3.8.2-final"
  },
  "orig_nbformat": 2,
  "kernelspec": {
   "name": "Python 3.8.2 64-bit",
   "display_name": "Python 3.8.2 64-bit",
   "metadata": {
    "interpreter": {
     "hash": "31f2aee4e71d21fbe5cf8b01ff0e069b9275f58929596ceb00d14d90e3e16cd6"
    }
   }
  }
 },
 "nbformat": 4,
 "nbformat_minor": 2,
 "cells": [
  {
   "cell_type": "code",
   "execution_count": null,
   "metadata": {},
   "outputs": [],
   "source": [
    "import matplotlib.pyplot as plt\n",
    "import numpy as np\n",
    "\n",
    "def parse_data(filename):\n",
    "    male = []\n",
    "    female = []\n",
    "    with open(filename, \"rb\") as file:\n",
    "        lines = file.readlines()\n",
    "        for line in lines:\n",
    "            gender = line[474:475].decode('utf-8')\n",
    "            weight = line[503:507].decode('utf-8')\n",
    "            birth_day = line[22:23].decode('utf-8')\n",
    "\n",
    "            if gender == \"M\":\n",
    "                male.append({\"weight\": weight, \"birth_day\": birth_day})\n",
    "            elif gender == \"F\":\n",
    "                female.append({\"weight\": weight, \"birth_day\": birth_day})\n",
    "\n",
    "    return male, female\n",
    "\n",
    "\n",
    "def gender_proportion(x, y): return (len(x), len(y))\n",
    "\n",
    "\n",
    "def gender_average_weight(x, y): return (sum(\n",
    "    int(i['weight']) for i in x)/len(x), sum(int(i['weight']) for i in y)/len(y))\n",
    "\n",
    "\n",
    "def get_gender_births_weekday(x, y):\n",
    "    male_days = []\n",
    "    female_days = []\n",
    "    for i in range(1, 8):\n",
    "        male_days.append(len([day for day in x if int(day['birth_day']) == i]))\n",
    "        female_days.append(\n",
    "            len([day for day in y if int(day['birth_day']) == i]))\n",
    "\n",
    "    return male_days, female_days"
   ]
  },
  {
   "cell_type": "code",
   "execution_count": null,
   "metadata": {},
   "outputs": [],
   "source": [
    "\n",
    "male2017, female2017 = parse_data(\"files/2017.txt\")\n",
    "male2018, female2018 = parse_data(\"files/2018.txt\")\n",
    "male2019, female2019 = parse_data(\"files/2019.txt\")\n",
    "\n",
    "\n"
   ]
  },
  {
   "cell_type": "code",
   "execution_count": null,
   "metadata": {},
   "outputs": [],
   "source": [
    "\n",
    "proportion = [gender_proportion(male2017, female2017), gender_proportion(male2018, female2018), gender_proportion(male2019, female2019)]\n",
    "avg_weight = [gender_average_weight(male2017, female2017), gender_average_weight(male2018, female2018), gender_average_weight(male2019, female2019)]\n",
    "births_weekday = [get_gender_births_weekday(male2017, female2017), get_gender_births_weekday(male2018, female2018), get_gender_births_weekday(male2019, female2019)]"
   ]
  },
  {
   "cell_type": "code",
   "execution_count": null,
   "metadata": {},
   "outputs": [],
   "source": [
    "def plot_proporsion(list):\n",
    "    xpos = np.arange(len(list))\n",
    "    plt.bar(xpos-0.15, [i[0] for i in list], width=0.3, label=\"Male\")\n",
    "    plt.bar(xpos+0.15, [i[1] for i in list], width=0.3, label=\"Female\")\n",
    "    plt.title(\"Gender Proportion\")\n",
    "    plt.legend(bbox_to_anchor=(1.05, 1))\n",
    "    plt.xticks(xpos, (\"2017\", \"2018\", \"2019\"))\n",
    "\n",
    "\n"
   ]
  },
  {
   "cell_type": "code",
   "execution_count": null,
   "metadata": {},
   "outputs": [],
   "source": [
    "def plot_average_birth_weight(list):\n",
    "    xpos = np.arange(len(list))\n",
    "    plt.bar(xpos-0.15, [i[0] for i in list], width=0.3, label=\"Male\")\n",
    "    plt.bar(xpos+0.15, [i[1] for i in list], width=0.3, label=\"Female\")\n",
    "    plt.title(\"Average Birth Weight\")\n",
    "    plt.legend(bbox_to_anchor=(1.05, 1))\n",
    "    plt.xticks(xpos, (\"2017\", \"2018\", \"2019\"))\n",
    "\n"
   ]
  },
  {
   "cell_type": "code",
   "execution_count": null,
   "metadata": {},
   "outputs": [],
   "source": [
    "def plot_births_weekday(list):\n",
    "    xpos = np.arange(7)\n",
    "    plt.figure(figsize=(12,5))\n",
    "    plt.bar(xpos-0.25, [i for i in list[0][0]], width=0.1, label=\"Male 2017\")\n",
    "    plt.bar(xpos-0.15, [i for i in list[0][1]], width=0.1, label=\"Female 2017\")\n",
    "    plt.bar(xpos-0.05, [i for i in list[1][0]], width=0.1, label=\"Male 2018\")\n",
    "    plt.bar(xpos+0.05, [i for i in list[1][1]], width=0.1, label=\"Female 2018\")\n",
    "    plt.bar(xpos+0.15, [i for i in list[2][0]], width=0.1, label=\"Male 2019\")\n",
    "    plt.bar(xpos+0.25, [i for i in list[2][1]], width=0.1, label=\"Female 2019\")\n",
    "    plt.legend(bbox_to_anchor=(1.05, 1))\n",
    "    \n",
    "    plt.xticks(xpos, (\"Sun\", \"Mon\", \"Tue\", \"Wed\", \"Thu\", \"Fri\", \"Sat\"))"
   ]
  },
  {
   "source": [
    "# Graphs comparing births between males and females 2017-2019"
   ],
   "cell_type": "markdown",
   "metadata": {}
  },
  {
   "source": [
    "## Proportion of births between males and females over whole years"
   ],
   "cell_type": "markdown",
   "metadata": {}
  },
  {
   "cell_type": "code",
   "execution_count": null,
   "metadata": {},
   "outputs": [],
   "source": [
    "plot_proporsion(proportion)"
   ]
  },
  {
   "source": [
    "## Average birth weight between males and females"
   ],
   "cell_type": "markdown",
   "metadata": {}
  },
  {
   "cell_type": "code",
   "execution_count": null,
   "metadata": {},
   "outputs": [],
   "source": [
    "plot_average_birth_weight(avg_weight)"
   ]
  },
  {
   "source": [
    "## Amount of births on a current weekday 2017-2019 "
   ],
   "cell_type": "markdown",
   "metadata": {}
  },
  {
   "cell_type": "code",
   "execution_count": null,
   "metadata": {},
   "outputs": [],
   "source": [
    "plot_births_weekday(births_weekday)"
   ]
  },
  {
   "cell_type": "code",
   "execution_count": null,
   "metadata": {},
   "outputs": [],
   "source": []
  }
 ]
}